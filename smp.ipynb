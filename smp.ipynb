{
 "cells": [
  {
   "cell_type": "markdown",
   "id": "fa4f80c1-585a-4d36-9f58-bbe732b72c7a",
   "metadata": {},
   "source": [
    "## Imports "
   ]
  },
  {
   "cell_type": "code",
   "execution_count": null,
   "id": "7adff24a-2c92-40d4-8ee8-47f25fdcd5a2",
   "metadata": {
    "tags": []
   },
   "outputs": [],
   "source": [
    "# pip install yfinanceastype"
   ]
  },
  {
   "cell_type": "code",
   "execution_count": 1,
   "id": "0c751304-50eb-4ac4-b95a-dfb6fb75a1a9",
   "metadata": {
    "tags": []
   },
   "outputs": [],
   "source": [
    "import yfinance as yf\n",
    "import pandas as pd\n",
    "import os"
   ]
  },
  {
   "cell_type": "code",
   "execution_count": null,
   "id": "e44dcf0b-755a-4824-b20b-7f8eb8e63f29",
   "metadata": {},
   "outputs": [],
   "source": []
  },
  {
   "cell_type": "markdown",
   "id": "47bf4fdc-72ba-46bc-adf0-017a56dda2b2",
   "metadata": {},
   "source": [
    "### Download price history"
   ]
  },
  {
   "cell_type": "code",
   "execution_count": 2,
   "id": "08dbb3e5-9bbc-4332-9ffd-f51887dfbf93",
   "metadata": {
    "tags": []
   },
   "outputs": [],
   "source": [
    "sp500=yf.Ticker(\"^GSPC\")"
   ]
  },
  {
   "cell_type": "code",
   "execution_count": 3,
   "id": "dabb5158-2a61-407d-ab42-283828ba7d3f",
   "metadata": {
    "tags": []
   },
   "outputs": [],
   "source": [
    "sp500=sp500.history(period=\"max\")"
   ]
  },
  {
   "cell_type": "code",
   "execution_count": 5,
   "id": "2d6276ba-428f-4758-8d5f-4c57d22e32eb",
   "metadata": {
    "tags": []
   },
   "outputs": [
    {
     "data": {
      "text/html": [
       "<div>\n",
       "<style scoped>\n",
       "    .dataframe tbody tr th:only-of-type {\n",
       "        vertical-align: middle;\n",
       "    }\n",
       "\n",
       "    .dataframe tbody tr th {\n",
       "        vertical-align: top;\n",
       "    }\n",
       "\n",
       "    .dataframe thead th {\n",
       "        text-align: right;\n",
       "    }\n",
       "</style>\n",
       "<table border=\"1\" class=\"dataframe\">\n",
       "  <thead>\n",
       "    <tr style=\"text-align: right;\">\n",
       "      <th></th>\n",
       "      <th>Open</th>\n",
       "      <th>High</th>\n",
       "      <th>Low</th>\n",
       "      <th>Close</th>\n",
       "      <th>Volume</th>\n",
       "    </tr>\n",
       "    <tr>\n",
       "      <th>Date</th>\n",
       "      <th></th>\n",
       "      <th></th>\n",
       "      <th></th>\n",
       "      <th></th>\n",
       "      <th></th>\n",
       "    </tr>\n",
       "  </thead>\n",
       "  <tbody>\n",
       "    <tr>\n",
       "      <th>1927-12-30 00:00:00-05:00</th>\n",
       "      <td>17.660000</td>\n",
       "      <td>17.660000</td>\n",
       "      <td>17.660000</td>\n",
       "      <td>17.660000</td>\n",
       "      <td>0</td>\n",
       "    </tr>\n",
       "    <tr>\n",
       "      <th>1928-01-03 00:00:00-05:00</th>\n",
       "      <td>17.760000</td>\n",
       "      <td>17.760000</td>\n",
       "      <td>17.760000</td>\n",
       "      <td>17.760000</td>\n",
       "      <td>0</td>\n",
       "    </tr>\n",
       "    <tr>\n",
       "      <th>1928-01-04 00:00:00-05:00</th>\n",
       "      <td>17.719999</td>\n",
       "      <td>17.719999</td>\n",
       "      <td>17.719999</td>\n",
       "      <td>17.719999</td>\n",
       "      <td>0</td>\n",
       "    </tr>\n",
       "    <tr>\n",
       "      <th>1928-01-05 00:00:00-05:00</th>\n",
       "      <td>17.549999</td>\n",
       "      <td>17.549999</td>\n",
       "      <td>17.549999</td>\n",
       "      <td>17.549999</td>\n",
       "      <td>0</td>\n",
       "    </tr>\n",
       "    <tr>\n",
       "      <th>1928-01-06 00:00:00-05:00</th>\n",
       "      <td>17.660000</td>\n",
       "      <td>17.660000</td>\n",
       "      <td>17.660000</td>\n",
       "      <td>17.660000</td>\n",
       "      <td>0</td>\n",
       "    </tr>\n",
       "    <tr>\n",
       "      <th>...</th>\n",
       "      <td>...</td>\n",
       "      <td>...</td>\n",
       "      <td>...</td>\n",
       "      <td>...</td>\n",
       "      <td>...</td>\n",
       "    </tr>\n",
       "    <tr>\n",
       "      <th>2023-05-22 00:00:00-04:00</th>\n",
       "      <td>4190.779785</td>\n",
       "      <td>4209.220215</td>\n",
       "      <td>4179.680176</td>\n",
       "      <td>4192.629883</td>\n",
       "      <td>3728520000</td>\n",
       "    </tr>\n",
       "    <tr>\n",
       "      <th>2023-05-23 00:00:00-04:00</th>\n",
       "      <td>4176.799805</td>\n",
       "      <td>4185.680176</td>\n",
       "      <td>4142.540039</td>\n",
       "      <td>4145.580078</td>\n",
       "      <td>4155320000</td>\n",
       "    </tr>\n",
       "    <tr>\n",
       "      <th>2023-05-24 00:00:00-04:00</th>\n",
       "      <td>4132.959961</td>\n",
       "      <td>4132.959961</td>\n",
       "      <td>4103.979980</td>\n",
       "      <td>4115.240234</td>\n",
       "      <td>0</td>\n",
       "    </tr>\n",
       "    <tr>\n",
       "      <th>2023-05-25 00:00:00-04:00</th>\n",
       "      <td>4155.709961</td>\n",
       "      <td>4165.740234</td>\n",
       "      <td>4129.729980</td>\n",
       "      <td>4151.279785</td>\n",
       "      <td>4147760000</td>\n",
       "    </tr>\n",
       "    <tr>\n",
       "      <th>2023-05-26 00:00:00-04:00</th>\n",
       "      <td>4156.160156</td>\n",
       "      <td>4212.870117</td>\n",
       "      <td>4156.160156</td>\n",
       "      <td>4205.450195</td>\n",
       "      <td>3715460000</td>\n",
       "    </tr>\n",
       "  </tbody>\n",
       "</table>\n",
       "<p>23966 rows × 5 columns</p>\n",
       "</div>"
      ],
      "text/plain": [
       "                                  Open         High          Low        Close  \\\n",
       "Date                                                                            \n",
       "1927-12-30 00:00:00-05:00    17.660000    17.660000    17.660000    17.660000   \n",
       "1928-01-03 00:00:00-05:00    17.760000    17.760000    17.760000    17.760000   \n",
       "1928-01-04 00:00:00-05:00    17.719999    17.719999    17.719999    17.719999   \n",
       "1928-01-05 00:00:00-05:00    17.549999    17.549999    17.549999    17.549999   \n",
       "1928-01-06 00:00:00-05:00    17.660000    17.660000    17.660000    17.660000   \n",
       "...                                ...          ...          ...          ...   \n",
       "2023-05-22 00:00:00-04:00  4190.779785  4209.220215  4179.680176  4192.629883   \n",
       "2023-05-23 00:00:00-04:00  4176.799805  4185.680176  4142.540039  4145.580078   \n",
       "2023-05-24 00:00:00-04:00  4132.959961  4132.959961  4103.979980  4115.240234   \n",
       "2023-05-25 00:00:00-04:00  4155.709961  4165.740234  4129.729980  4151.279785   \n",
       "2023-05-26 00:00:00-04:00  4156.160156  4212.870117  4156.160156  4205.450195   \n",
       "\n",
       "                               Volume  \n",
       "Date                                   \n",
       "1927-12-30 00:00:00-05:00           0  \n",
       "1928-01-03 00:00:00-05:00           0  \n",
       "1928-01-04 00:00:00-05:00           0  \n",
       "1928-01-05 00:00:00-05:00           0  \n",
       "1928-01-06 00:00:00-05:00           0  \n",
       "...                               ...  \n",
       "2023-05-22 00:00:00-04:00  3728520000  \n",
       "2023-05-23 00:00:00-04:00  4155320000  \n",
       "2023-05-24 00:00:00-04:00           0  \n",
       "2023-05-25 00:00:00-04:00  4147760000  \n",
       "2023-05-26 00:00:00-04:00  3715460000  \n",
       "\n",
       "[23966 rows x 5 columns]"
      ]
     },
     "execution_count": 5,
     "metadata": {},
     "output_type": "execute_result"
    }
   ],
   "source": [
    "sp500"
   ]
  },
  {
   "cell_type": "code",
   "execution_count": 6,
   "id": "c556ba16-96fc-4a46-82ee-dcdba78c7ed4",
   "metadata": {
    "tags": []
   },
   "outputs": [
    {
     "data": {
      "text/plain": [
       "DatetimeIndex(['1927-12-30 00:00:00-05:00', '1928-01-03 00:00:00-05:00',\n",
       "               '1928-01-04 00:00:00-05:00', '1928-01-05 00:00:00-05:00',\n",
       "               '1928-01-06 00:00:00-05:00', '1928-01-09 00:00:00-05:00',\n",
       "               '1928-01-10 00:00:00-05:00', '1928-01-11 00:00:00-05:00',\n",
       "               '1928-01-12 00:00:00-05:00', '1928-01-13 00:00:00-05:00',\n",
       "               ...\n",
       "               '2023-05-15 00:00:00-04:00', '2023-05-16 00:00:00-04:00',\n",
       "               '2023-05-17 00:00:00-04:00', '2023-05-18 00:00:00-04:00',\n",
       "               '2023-05-19 00:00:00-04:00', '2023-05-22 00:00:00-04:00',\n",
       "               '2023-05-23 00:00:00-04:00', '2023-05-24 00:00:00-04:00',\n",
       "               '2023-05-25 00:00:00-04:00', '2023-05-26 00:00:00-04:00'],\n",
       "              dtype='datetime64[ns, America/New_York]', name='Date', length=23966, freq=None)"
      ]
     },
     "execution_count": 6,
     "metadata": {},
     "output_type": "execute_result"
    }
   ],
   "source": [
    "sp500.index"
   ]
  },
  {
   "cell_type": "markdown",
   "id": "61264134-b7bf-422e-96d3-a04468c57aac",
   "metadata": {},
   "source": [
    "## Cleaning the data"
   ]
  },
  {
   "cell_type": "code",
   "execution_count": 9,
   "id": "3e21765b-538c-470f-b20a-f23ea45f0caa",
   "metadata": {
    "tags": []
   },
   "outputs": [
    {
     "data": {
      "text/plain": [
       "<AxesSubplot:xlabel='Date'>"
      ]
     },
     "execution_count": 9,
     "metadata": {},
     "output_type": "execute_result"
    },
    {
     "data": {
      "image/png": "[encoded data removed]",
      "text/plain": [
       "<Figure size 640x480 with 1 Axes>"
      ]
     },
     "metadata": {},
     "output_type": "display_data"
    }
   ],
   "source": [
    "sp500.plot.line(y=\"Close\", use_index=True)"
   ]
  },
  {
   "cell_type": "code",
   "execution_count": 4,
   "id": "81e5b6b6-eb39-4f7c-824b-3cda04916d02",
   "metadata": {
    "tags": []
   },
   "outputs": [],
   "source": [
    "del sp500['Dividends']\n",
    "del sp500['Stock Splits']"
   ]
  },
  {
   "cell_type": "markdown",
   "id": "7e19dbce-35a2-43d2-b527-f6836af20a9a",
   "metadata": {},
   "source": [
    "## Target : To predict if the stock will go up or down "
   ]
  },
  {
   "cell_type": "code",
   "execution_count": 7,
   "id": "6c2c0b28-76fe-4707-b74e-171854f6f4a9",
   "metadata": {},
   "outputs": [],
   "source": [
    "# tommorow's price \n",
    "sp500[\"Tommorow\"]=sp500[\"Close\"].shift(-1)"
   ]
  },
  {
   "cell_type": "code",
   "execution_count": 8,
   "id": "b6fc9da3-9dfa-411d-978c-700b1bc9ceab",
   "metadata": {},
   "outputs": [
    {
     "data": {
      "text/html": [
       "<div>\n",
       "<style scoped>\n",
       "    .dataframe tbody tr th:only-of-type {\n",
       "        vertical-align: middle;\n",
       "    }\n",
       "\n",
       "    .dataframe tbody tr th {\n",
       "        vertical-align: top;\n",
       "    }\n",
       "\n",
       "    .dataframe thead th {\n",
       "        text-align: right;\n",
       "    }\n",
       "</style>\n",
       "<table border=\"1\" class=\"dataframe\">\n",
       "  <thead>\n",
       "    <tr style=\"text-align: right;\">\n",
       "      <th></th>\n",
       "      <th>Open</th>\n",
       "      <th>High</th>\n",
       "      <th>Low</th>\n",
       "      <th>Close</th>\n",
       "      <th>Volume</th>\n",
       "      <th>Tommorow</th>\n",
       "    </tr>\n",
       "    <tr>\n",
       "      <th>Date</th>\n",
       "      <th></th>\n",
       "      <th></th>\n",
       "      <th></th>\n",
       "      <th></th>\n",
       "      <th></th>\n",
       "      <th></th>\n",
       "    </tr>\n",
       "  </thead>\n",
       "  <tbody>\n",
       "    <tr>\n",
       "      <th>1927-12-30 00:00:00-05:00</th>\n",
       "      <td>17.660000</td>\n",
       "      <td>17.660000</td>\n",
       "      <td>17.660000</td>\n",
       "      <td>17.660000</td>\n",
       "      <td>0</td>\n",
       "      <td>17.760000</td>\n",
       "    </tr>\n",
       "    <tr>\n",
       "      <th>1928-01-03 00:00:00-05:00</th>\n",
       "      <td>17.760000</td>\n",
       "      <td>17.760000</td>\n",
       "      <td>17.760000</td>\n",
       "      <td>17.760000</td>\n",
       "      <td>0</td>\n",
       "      <td>17.719999</td>\n",
       "    </tr>\n",
       "    <tr>\n",
       "      <th>1928-01-04 00:00:00-05:00</th>\n",
       "      <td>17.719999</td>\n",
       "      <td>17.719999</td>\n",
       "      <td>17.719999</td>\n",
       "      <td>17.719999</td>\n",
       "      <td>0</td>\n",
       "      <td>17.549999</td>\n",
       "    </tr>\n",
       "    <tr>\n",
       "      <th>1928-01-05 00:00:00-05:00</th>\n",
       "      <td>17.549999</td>\n",
       "      <td>17.549999</td>\n",
       "      <td>17.549999</td>\n",
       "      <td>17.549999</td>\n",
       "      <td>0</td>\n",
       "      <td>17.660000</td>\n",
       "    </tr>\n",
       "    <tr>\n",
       "      <th>1928-01-06 00:00:00-05:00</th>\n",
       "      <td>17.660000</td>\n",
       "      <td>17.660000</td>\n",
       "      <td>17.660000</td>\n",
       "      <td>17.660000</td>\n",
       "      <td>0</td>\n",
       "      <td>17.500000</td>\n",
       "    </tr>\n",
       "    <tr>\n",
       "      <th>...</th>\n",
       "      <td>...</td>\n",
       "      <td>...</td>\n",
       "      <td>...</td>\n",
       "      <td>...</td>\n",
       "      <td>...</td>\n",
       "      <td>...</td>\n",
       "    </tr>\n",
       "    <tr>\n",
       "      <th>2023-05-22 00:00:00-04:00</th>\n",
       "      <td>4190.779785</td>\n",
       "      <td>4209.220215</td>\n",
       "      <td>4179.680176</td>\n",
       "      <td>4192.629883</td>\n",
       "      <td>3728520000</td>\n",
       "      <td>4145.580078</td>\n",
       "    </tr>\n",
       "    <tr>\n",
       "      <th>2023-05-23 00:00:00-04:00</th>\n",
       "      <td>4176.799805</td>\n",
       "      <td>4185.680176</td>\n",
       "      <td>4142.540039</td>\n",
       "      <td>4145.580078</td>\n",
       "      <td>4155320000</td>\n",
       "      <td>4115.240234</td>\n",
       "    </tr>\n",
       "    <tr>\n",
       "      <th>2023-05-24 00:00:00-04:00</th>\n",
       "      <td>4132.959961</td>\n",
       "      <td>4132.959961</td>\n",
       "      <td>4103.979980</td>\n",
       "      <td>4115.240234</td>\n",
       "      <td>0</td>\n",
       "      <td>4151.279785</td>\n",
       "    </tr>\n",
       "    <tr>\n",
       "      <th>2023-05-25 00:00:00-04:00</th>\n",
       "      <td>4155.709961</td>\n",
       "      <td>4165.740234</td>\n",
       "      <td>4129.729980</td>\n",
       "      <td>4151.279785</td>\n",
       "      <td>4147760000</td>\n",
       "      <td>4205.450195</td>\n",
       "    </tr>\n",
       "    <tr>\n",
       "      <th>2023-05-26 00:00:00-04:00</th>\n",
       "      <td>4156.160156</td>\n",
       "      <td>4212.870117</td>\n",
       "      <td>4156.160156</td>\n",
       "      <td>4205.450195</td>\n",
       "      <td>3715460000</td>\n",
       "      <td>NaN</td>\n",
       "    </tr>\n",
       "  </tbody>\n",
       "</table>\n",
       "<p>23966 rows × 6 columns</p>\n",
       "</div>"
      ],
      "text/plain": [
       "                                  Open         High          Low        Close  \\\n",
       "Date                                                                            \n",
       "1927-12-30 00:00:00-05:00    17.660000    17.660000    17.660000    17.660000   \n",
       "1928-01-03 00:00:00-05:00    17.760000    17.760000    17.760000    17.760000   \n",
       "1928-01-04 00:00:00-05:00    17.719999    17.719999    17.719999    17.719999   \n",
       "1928-01-05 00:00:00-05:00    17.549999    17.549999    17.549999    17.549999   \n",
       "1928-01-06 00:00:00-05:00    17.660000    17.660000    17.660000    17.660000   \n",
       "...                                ...          ...          ...          ...   \n",
       "2023-05-22 00:00:00-04:00  4190.779785  4209.220215  4179.680176  4192.629883   \n",
       "2023-05-23 00:00:00-04:00  4176.799805  4185.680176  4142.540039  4145.580078   \n",
       "2023-05-24 00:00:00-04:00  4132.959961  4132.959961  4103.979980  4115.240234   \n",
       "2023-05-25 00:00:00-04:00  4155.709961  4165.740234  4129.729980  4151.279785   \n",
       "2023-05-26 00:00:00-04:00  4156.160156  4212.870117  4156.160156  4205.450195   \n",
       "\n",
       "                               Volume     Tommorow  \n",
       "Date                                                \n",
       "1927-12-30 00:00:00-05:00           0    17.760000  \n",
       "1928-01-03 00:00:00-05:00           0    17.719999  \n",
       "1928-01-04 00:00:00-05:00           0    17.549999  \n",
       "1928-01-05 00:00:00-05:00           0    17.660000  \n",
       "1928-01-06 00:00:00-05:00           0    17.500000  \n",
       "...                               ...          ...  \n",
       "2023-05-22 00:00:00-04:00  3728520000  4145.580078  \n",
       "2023-05-23 00:00:00-04:00  4155320000  4115.240234  \n",
       "2023-05-24 00:00:00-04:00           0  4151.279785  \n",
       "2023-05-25 00:00:00-04:00  4147760000  4205.450195  \n",
       "2023-05-26 00:00:00-04:00  3715460000          NaN  \n",
       "\n",
       "[23966 rows x 6 columns]"
      ]
     },
     "execution_count": 8,
     "metadata": {},
     "output_type": "execute_result"
    }
   ],
   "source": [
    "sp500"
   ]
  },
  {
   "cell_type": "code",
   "execution_count": 12,
   "id": "c8144dad-3152-4d8b-b661-6018673813ec",
   "metadata": {},
   "outputs": [],
   "source": [
    "# Target is a boolean after check \n",
    "sp500[\"Target\"]=(sp500[\"Tommorow\"]>sp500[\"Close\"]).astype(int)"
   ]
  },
  {
   "cell_type": "code",
   "execution_count": 13,
   "id": "818cefe8-6098-4a0a-913b-58cd6339797d",
   "metadata": {},
   "outputs": [
    {
     "data": {
      "text/html": [
       "<div>\n",
       "<style scoped>\n",
       "    .dataframe tbody tr th:only-of-type {\n",
       "        vertical-align: middle;\n",
       "    }\n",
       "\n",
       "    .dataframe tbody tr th {\n",
       "        vertical-align: top;\n",
       "    }\n",
       "\n",
       "    .dataframe thead th {\n",
       "        text-align: right;\n",
       "    }\n",
       "</style>\n",
       "<table border=\"1\" class=\"dataframe\">\n",
       "  <thead>\n",
       "    <tr style=\"text-align: right;\">\n",
       "      <th></th>\n",
       "      <th>Open</th>\n",
       "      <th>High</th>\n",
       "      <th>Low</th>\n",
       "      <th>Close</th>\n",
       "      <th>Volume</th>\n",
       "      <th>Tommorow</th>\n",
       "      <th>Target</th>\n",
       "    </tr>\n",
       "    <tr>\n",
       "      <th>Date</th>\n",
       "      <th></th>\n",
       "      <th></th>\n",
       "      <th></th>\n",
       "      <th></th>\n",
       "      <th></th>\n",
       "      <th></th>\n",
       "      <th></th>\n",
       "    </tr>\n",
       "  </thead>\n",
       "  <tbody>\n",
       "    <tr>\n",
       "      <th>1927-12-30 00:00:00-05:00</th>\n",
       "      <td>17.660000</td>\n",
       "      <td>17.660000</td>\n",
       "      <td>17.660000</td>\n",
       "      <td>17.660000</td>\n",
       "      <td>0</td>\n",
       "      <td>17.760000</td>\n",
       "      <td>1</td>\n",
       "    </tr>\n",
       "    <tr>\n",
       "      <th>1928-01-03 00:00:00-05:00</th>\n",
       "      <td>17.760000</td>\n",
       "      <td>17.760000</td>\n",
       "      <td>17.760000</td>\n",
       "      <td>17.760000</td>\n",
       "      <td>0</td>\n",
       "      <td>17.719999</td>\n",
       "      <td>0</td>\n",
       "    </tr>\n",
       "    <tr>\n",
       "      <th>1928-01-04 00:00:00-05:00</th>\n",
       "      <td>17.719999</td>\n",
       "      <td>17.719999</td>\n",
       "      <td>17.719999</td>\n",
       "      <td>17.719999</td>\n",
       "      <td>0</td>\n",
       "      <td>17.549999</td>\n",
       "      <td>0</td>\n",
       "    </tr>\n",
       "    <tr>\n",
       "      <th>1928-01-05 00:00:00-05:00</th>\n",
       "      <td>17.549999</td>\n",
       "      <td>17.549999</td>\n",
       "      <td>17.549999</td>\n",
       "      <td>17.549999</td>\n",
       "      <td>0</td>\n",
       "      <td>17.660000</td>\n",
       "      <td>1</td>\n",
       "    </tr>\n",
       "    <tr>\n",
       "      <th>1928-01-06 00:00:00-05:00</th>\n",
       "      <td>17.660000</td>\n",
       "      <td>17.660000</td>\n",
       "      <td>17.660000</td>\n",
       "      <td>17.660000</td>\n",
       "      <td>0</td>\n",
       "      <td>17.500000</td>\n",
       "      <td>0</td>\n",
       "    </tr>\n",
       "    <tr>\n",
       "      <th>...</th>\n",
       "      <td>...</td>\n",
       "      <td>...</td>\n",
       "      <td>...</td>\n",
       "      <td>...</td>\n",
       "      <td>...</td>\n",
       "      <td>...</td>\n",
       "      <td>...</td>\n",
       "    </tr>\n",
       "    <tr>\n",
       "      <th>2023-05-22 00:00:00-04:00</th>\n",
       "      <td>4190.779785</td>\n",
       "      <td>4209.220215</td>\n",
       "      <td>4179.680176</td>\n",
       "      <td>4192.629883</td>\n",
       "      <td>3728520000</td>\n",
       "      <td>4145.580078</td>\n",
       "      <td>0</td>\n",
       "    </tr>\n",
       "    <tr>\n",
       "      <th>2023-05-23 00:00:00-04:00</th>\n",
       "      <td>4176.799805</td>\n",
       "      <td>4185.680176</td>\n",
       "      <td>4142.540039</td>\n",
       "      <td>4145.580078</td>\n",
       "      <td>4155320000</td>\n",
       "      <td>4115.240234</td>\n",
       "      <td>0</td>\n",
       "    </tr>\n",
       "    <tr>\n",
       "      <th>2023-05-24 00:00:00-04:00</th>\n",
       "      <td>4132.959961</td>\n",
       "      <td>4132.959961</td>\n",
       "      <td>4103.979980</td>\n",
       "      <td>4115.240234</td>\n",
       "      <td>0</td>\n",
       "      <td>4151.279785</td>\n",
       "      <td>1</td>\n",
       "    </tr>\n",
       "    <tr>\n",
       "      <th>2023-05-25 00:00:00-04:00</th>\n",
       "      <td>4155.709961</td>\n",
       "      <td>4165.740234</td>\n",
       "      <td>4129.729980</td>\n",
       "      <td>4151.279785</td>\n",
       "      <td>4147760000</td>\n",
       "      <td>4205.450195</td>\n",
       "      <td>1</td>\n",
       "    </tr>\n",
       "    <tr>\n",
       "      <th>2023-05-26 00:00:00-04:00</th>\n",
       "      <td>4156.160156</td>\n",
       "      <td>4212.870117</td>\n",
       "      <td>4156.160156</td>\n",
       "      <td>4205.450195</td>\n",
       "      <td>3715460000</td>\n",
       "      <td>NaN</td>\n",
       "      <td>0</td>\n",
       "    </tr>\n",
       "  </tbody>\n",
       "</table>\n",
       "<p>23966 rows × 7 columns</p>\n",
       "</div>"
      ],
      "text/plain": [
       "                                  Open         High          Low        Close  \\\n",
       "Date                                                                            \n",
       "1927-12-30 00:00:00-05:00    17.660000    17.660000    17.660000    17.660000   \n",
       "1928-01-03 00:00:00-05:00    17.760000    17.760000    17.760000    17.760000   \n",
       "1928-01-04 00:00:00-05:00    17.719999    17.719999    17.719999    17.719999   \n",
       "1928-01-05 00:00:00-05:00    17.549999    17.549999    17.549999    17.549999   \n",
       "1928-01-06 00:00:00-05:00    17.660000    17.660000    17.660000    17.660000   \n",
       "...                                ...          ...          ...          ...   \n",
       "2023-05-22 00:00:00-04:00  4190.779785  4209.220215  4179.680176  4192.629883   \n",
       "2023-05-23 00:00:00-04:00  4176.799805  4185.680176  4142.540039  4145.580078   \n",
       "2023-05-24 00:00:00-04:00  4132.959961  4132.959961  4103.979980  4115.240234   \n",
       "2023-05-25 00:00:00-04:00  4155.709961  4165.740234  4129.729980  4151.279785   \n",
       "2023-05-26 00:00:00-04:00  4156.160156  4212.870117  4156.160156  4205.450195   \n",
       "\n",
       "                               Volume     Tommorow  Target  \n",
       "Date                                                        \n",
       "1927-12-30 00:00:00-05:00           0    17.760000       1  \n",
       "1928-01-03 00:00:00-05:00           0    17.719999       0  \n",
       "1928-01-04 00:00:00-05:00           0    17.549999       0  \n",
       "1928-01-05 00:00:00-05:00           0    17.660000       1  \n",
       "1928-01-06 00:00:00-05:00           0    17.500000       0  \n",
       "...                               ...          ...     ...  \n",
       "2023-05-22 00:00:00-04:00  3728520000  4145.580078       0  \n",
       "2023-05-23 00:00:00-04:00  4155320000  4115.240234       0  \n",
       "2023-05-24 00:00:00-04:00           0  4151.279785       1  \n",
       "2023-05-25 00:00:00-04:00  4147760000  4205.450195       1  \n",
       "2023-05-26 00:00:00-04:00  3715460000          NaN       0  \n",
       "\n",
       "[23966 rows x 7 columns]"
      ]
     },
     "execution_count": 13,
     "metadata": {},
     "output_type": "execute_result"
    }
   ],
   "source": [
    "sp500"
   ]
  },
  {
   "cell_type": "code",
   "execution_count": 14,
   "id": "a246d227-14e4-4622-af52-dd9ae59d1391",
   "metadata": {},
   "outputs": [],
   "source": [
    "# using data after my bday \n",
    "sp500=sp500.loc[\"2002-01-01\":].copy()"
   ]
  },
  {
   "cell_type": "code",
   "execution_count": 15,
   "id": "96a65948-8916-45f5-9188-ed79cb13fedf",
   "metadata": {},
   "outputs": [
    {
     "data": {
      "text/html": [
       "<div>\n",
       "<style scoped>\n",
       "    .dataframe tbody tr th:only-of-type {\n",
       "        vertical-align: middle;\n",
       "    }\n",
       "\n",
       "    .dataframe tbody tr th {\n",
       "        vertical-align: top;\n",
       "    }\n",
       "\n",
       "    .dataframe thead th {\n",
       "        text-align: right;\n",
       "    }\n",
       "</style>\n",
       "<table border=\"1\" class=\"dataframe\">\n",
       "  <thead>\n",
       "    <tr style=\"text-align: right;\">\n",
       "      <th></th>\n",
       "      <th>Open</th>\n",
       "      <th>High</th>\n",
       "      <th>Low</th>\n",
       "      <th>Close</th>\n",
       "      <th>Volume</th>\n",
       "      <th>Tommorow</th>\n",
       "      <th>Target</th>\n",
       "    </tr>\n",
       "    <tr>\n",
       "      <th>Date</th>\n",
       "      <th></th>\n",
       "      <th></th>\n",
       "      <th></th>\n",
       "      <th></th>\n",
       "      <th></th>\n",
       "      <th></th>\n",
       "      <th></th>\n",
       "    </tr>\n",
       "  </thead>\n",
       "  <tbody>\n",
       "    <tr>\n",
       "      <th>2002-01-02 00:00:00-05:00</th>\n",
       "      <td>1148.079956</td>\n",
       "      <td>1154.670044</td>\n",
       "      <td>1136.229980</td>\n",
       "      <td>1154.670044</td>\n",
       "      <td>1171000000</td>\n",
       "      <td>1165.270020</td>\n",
       "      <td>1</td>\n",
       "    </tr>\n",
       "    <tr>\n",
       "      <th>2002-01-03 00:00:00-05:00</th>\n",
       "      <td>1154.670044</td>\n",
       "      <td>1165.270020</td>\n",
       "      <td>1154.010010</td>\n",
       "      <td>1165.270020</td>\n",
       "      <td>1398900000</td>\n",
       "      <td>1172.510010</td>\n",
       "      <td>1</td>\n",
       "    </tr>\n",
       "    <tr>\n",
       "      <th>2002-01-04 00:00:00-05:00</th>\n",
       "      <td>1165.270020</td>\n",
       "      <td>1176.550049</td>\n",
       "      <td>1163.420044</td>\n",
       "      <td>1172.510010</td>\n",
       "      <td>1513000000</td>\n",
       "      <td>1164.890015</td>\n",
       "      <td>0</td>\n",
       "    </tr>\n",
       "    <tr>\n",
       "      <th>2002-01-07 00:00:00-05:00</th>\n",
       "      <td>1172.510010</td>\n",
       "      <td>1176.969971</td>\n",
       "      <td>1163.550049</td>\n",
       "      <td>1164.890015</td>\n",
       "      <td>1308300000</td>\n",
       "      <td>1160.709961</td>\n",
       "      <td>0</td>\n",
       "    </tr>\n",
       "    <tr>\n",
       "      <th>2002-01-08 00:00:00-05:00</th>\n",
       "      <td>1164.890015</td>\n",
       "      <td>1167.599976</td>\n",
       "      <td>1157.459961</td>\n",
       "      <td>1160.709961</td>\n",
       "      <td>1258800000</td>\n",
       "      <td>1155.140015</td>\n",
       "      <td>0</td>\n",
       "    </tr>\n",
       "    <tr>\n",
       "      <th>...</th>\n",
       "      <td>...</td>\n",
       "      <td>...</td>\n",
       "      <td>...</td>\n",
       "      <td>...</td>\n",
       "      <td>...</td>\n",
       "      <td>...</td>\n",
       "      <td>...</td>\n",
       "    </tr>\n",
       "    <tr>\n",
       "      <th>2023-05-22 00:00:00-04:00</th>\n",
       "      <td>4190.779785</td>\n",
       "      <td>4209.220215</td>\n",
       "      <td>4179.680176</td>\n",
       "      <td>4192.629883</td>\n",
       "      <td>3728520000</td>\n",
       "      <td>4145.580078</td>\n",
       "      <td>0</td>\n",
       "    </tr>\n",
       "    <tr>\n",
       "      <th>2023-05-23 00:00:00-04:00</th>\n",
       "      <td>4176.799805</td>\n",
       "      <td>4185.680176</td>\n",
       "      <td>4142.540039</td>\n",
       "      <td>4145.580078</td>\n",
       "      <td>4155320000</td>\n",
       "      <td>4115.240234</td>\n",
       "      <td>0</td>\n",
       "    </tr>\n",
       "    <tr>\n",
       "      <th>2023-05-24 00:00:00-04:00</th>\n",
       "      <td>4132.959961</td>\n",
       "      <td>4132.959961</td>\n",
       "      <td>4103.979980</td>\n",
       "      <td>4115.240234</td>\n",
       "      <td>0</td>\n",
       "      <td>4151.279785</td>\n",
       "      <td>1</td>\n",
       "    </tr>\n",
       "    <tr>\n",
       "      <th>2023-05-25 00:00:00-04:00</th>\n",
       "      <td>4155.709961</td>\n",
       "      <td>4165.740234</td>\n",
       "      <td>4129.729980</td>\n",
       "      <td>4151.279785</td>\n",
       "      <td>4147760000</td>\n",
       "      <td>4205.450195</td>\n",
       "      <td>1</td>\n",
       "    </tr>\n",
       "    <tr>\n",
       "      <th>2023-05-26 00:00:00-04:00</th>\n",
       "      <td>4156.160156</td>\n",
       "      <td>4212.870117</td>\n",
       "      <td>4156.160156</td>\n",
       "      <td>4205.450195</td>\n",
       "      <td>3715460000</td>\n",
       "      <td>NaN</td>\n",
       "      <td>0</td>\n",
       "    </tr>\n",
       "  </tbody>\n",
       "</table>\n",
       "<p>5388 rows × 7 columns</p>\n",
       "</div>"
      ],
      "text/plain": [
       "                                  Open         High          Low        Close  \\\n",
       "Date                                                                            \n",
       "2002-01-02 00:00:00-05:00  1148.079956  1154.670044  1136.229980  1154.670044   \n",
       "2002-01-03 00:00:00-05:00  1154.670044  1165.270020  1154.010010  1165.270020   \n",
       "2002-01-04 00:00:00-05:00  1165.270020  1176.550049  1163.420044  1172.510010   \n",
       "2002-01-07 00:00:00-05:00  1172.510010  1176.969971  1163.550049  1164.890015   \n",
       "2002-01-08 00:00:00-05:00  1164.890015  1167.599976  1157.459961  1160.709961   \n",
       "...                                ...          ...          ...          ...   \n",
       "2023-05-22 00:00:00-04:00  4190.779785  4209.220215  4179.680176  4192.629883   \n",
       "2023-05-23 00:00:00-04:00  4176.799805  4185.680176  4142.540039  4145.580078   \n",
       "2023-05-24 00:00:00-04:00  4132.959961  4132.959961  4103.979980  4115.240234   \n",
       "2023-05-25 00:00:00-04:00  4155.709961  4165.740234  4129.729980  4151.279785   \n",
       "2023-05-26 00:00:00-04:00  4156.160156  4212.870117  4156.160156  4205.450195   \n",
       "\n",
       "                               Volume     Tommorow  Target  \n",
       "Date                                                        \n",
       "2002-01-02 00:00:00-05:00  1171000000  1165.270020       1  \n",
       "2002-01-03 00:00:00-05:00  1398900000  1172.510010       1  \n",
       "2002-01-04 00:00:00-05:00  1513000000  1164.890015       0  \n",
       "2002-01-07 00:00:00-05:00  1308300000  1160.709961       0  \n",
       "2002-01-08 00:00:00-05:00  1258800000  1155.140015       0  \n",
       "...                               ...          ...     ...  \n",
       "2023-05-22 00:00:00-04:00  3728520000  4145.580078       0  \n",
       "2023-05-23 00:00:00-04:00  4155320000  4115.240234       0  \n",
       "2023-05-24 00:00:00-04:00           0  4151.279785       1  \n",
       "2023-05-25 00:00:00-04:00  4147760000  4205.450195       1  \n",
       "2023-05-26 00:00:00-04:00  3715460000          NaN       0  \n",
       "\n",
       "[5388 rows x 7 columns]"
      ]
     },
     "execution_count": 15,
     "metadata": {},
     "output_type": "execute_result"
    }
   ],
   "source": [
    "sp500"
   ]
  },
  {
   "cell_type": "markdown",
   "id": "545b4313-b9a9-43f5-884f-de6e5d16d669",
   "metadata": {},
   "source": [
    "## Training the a model w randomforest"
   ]
  },
  {
   "cell_type": "code",
   "execution_count": 16,
   "id": "5e14b896-d2e4-4ab5-80c2-14703698421f",
   "metadata": {},
   "outputs": [],
   "source": [
    "from sklearn.ensemble import RandomForestClassifier"
   ]
  },
  {
   "cell_type": "code",
   "execution_count": 17,
   "id": "c37fcc16-662d-43f9-9f4b-240c7e8dbe68",
   "metadata": {},
   "outputs": [],
   "source": [
    "model=RandomForestClassifier(n_estimators=100,min_samples_split=100,random_state=1)"
   ]
  },
  {
   "cell_type": "code",
   "execution_count": 18,
   "id": "56337196-888d-415f-983e-c27900f44df5",
   "metadata": {},
   "outputs": [],
   "source": [
    "train=sp500.iloc[:-100]\n",
    "test=sp500.iloc[-100:]"
   ]
  },
  {
   "cell_type": "code",
   "execution_count": 19,
   "id": "670d9add-e872-4cd1-8d94-13d20dd38c37",
   "metadata": {
    "tags": []
   },
   "outputs": [],
   "source": [
    "# keep the use of future data to a min \n",
    "predictors=[\"Close\",\"Volume\",\"Open\",\"High\",\"Low\"]"
   ]
  },
  {
   "cell_type": "code",
   "execution_count": 20,
   "id": "c2200200-7008-4219-b660-9bfe7b770048",
   "metadata": {
    "tags": []
   },
   "outputs": [
    {
     "data": {
      "text/html": [
       "<style>#sk-container-id-1 {color: black;background-color: white;}#sk-container-id-1 pre{padding: 0;}#sk-container-id-1 div.sk-toggleable {background-color: white;}#sk-container-id-1 label.sk-toggleable__label {cursor: pointer;display: block;width: 100%;margin-bottom: 0;padding: 0.3em;box-sizing: border-box;text-align: center;}#sk-container-id-1 label.sk-toggleable__label-arrow:before {content: \"▸\";float: left;margin-right: 0.25em;color: #696969;}#sk-container-id-1 label.sk-toggleable__label-arrow:hover:before {color: black;}#sk-container-id-1 div.sk-estimator:hover label.sk-toggleable__label-arrow:before {color: black;}#sk-container-id-1 div.sk-toggleable__content {max-height: 0;max-width: 0;overflow: hidden;text-align: left;background-color: #f0f8ff;}#sk-container-id-1 div.sk-toggleable__content pre {margin: 0.2em;color: black;border-radius: 0.25em;background-color: #f0f8ff;}#sk-container-id-1 input.sk-toggleable__control:checked~div.sk-toggleable__content {max-height: 200px;max-width: 100%;overflow: auto;}#sk-container-id-1 input.sk-toggleable__control:checked~label.sk-toggleable__label-arrow:before {content: \"▾\";}#sk-container-id-1 div.sk-estimator input.sk-toggleable__control:checked~label.sk-toggleable__label {background-color: #d4ebff;}#sk-container-id-1 div.sk-label input.sk-toggleable__control:checked~label.sk-toggleable__label {background-color: #d4ebff;}#sk-container-id-1 input.sk-hidden--visually {border: 0;clip: rect(1px 1px 1px 1px);clip: rect(1px, 1px, 1px, 1px);height: 1px;margin: -1px;overflow: hidden;padding: 0;position: absolute;width: 1px;}#sk-container-id-1 div.sk-estimator {font-family: monospace;background-color: #f0f8ff;border: 1px dotted black;border-radius: 0.25em;box-sizing: border-box;margin-bottom: 0.5em;}#sk-container-id-1 div.sk-estimator:hover {background-color: #d4ebff;}#sk-container-id-1 div.sk-parallel-item::after {content: \"\";width: 100%;border-bottom: 1px solid gray;flex-grow: 1;}#sk-container-id-1 div.sk-label:hover label.sk-toggleable__label {background-color: #d4ebff;}#sk-container-id-1 div.sk-serial::before {content: \"\";position: absolute;border-left: 1px solid gray;box-sizing: border-box;top: 0;bottom: 0;left: 50%;z-index: 0;}#sk-container-id-1 div.sk-serial {display: flex;flex-direction: column;align-items: center;background-color: white;padding-right: 0.2em;padding-left: 0.2em;position: relative;}#sk-container-id-1 div.sk-item {position: relative;z-index: 1;}#sk-container-id-1 div.sk-parallel {display: flex;align-items: stretch;justify-content: center;background-color: white;position: relative;}#sk-container-id-1 div.sk-item::before, #sk-container-id-1 div.sk-parallel-item::before {content: \"\";position: absolute;border-left: 1px solid gray;box-sizing: border-box;top: 0;bottom: 0;left: 50%;z-index: -1;}#sk-container-id-1 div.sk-parallel-item {display: flex;flex-direction: column;z-index: 1;position: relative;background-color: white;}#sk-container-id-1 div.sk-parallel-item:first-child::after {align-self: flex-end;width: 50%;}#sk-container-id-1 div.sk-parallel-item:last-child::after {align-self: flex-start;width: 50%;}#sk-container-id-1 div.sk-parallel-item:only-child::after {width: 0;}#sk-container-id-1 div.sk-dashed-wrapped {border: 1px dashed gray;margin: 0 0.4em 0.5em 0.4em;box-sizing: border-box;padding-bottom: 0.4em;background-color: white;}#sk-container-id-1 div.sk-label label {font-family: monospace;font-weight: bold;display: inline-block;line-height: 1.2em;}#sk-container-id-1 div.sk-label-container {text-align: center;}#sk-container-id-1 div.sk-container {/* jupyter's `normalize.less` sets `[hidden] { display: none; }` but bootstrap.min.css set `[hidden] { display: none !important; }` so we also need the `!important` here to be able to override the default hidden behavior on the sphinx rendered scikit-learn.org. See: https://github.com/scikit-learn/scikit-learn/issues/21755 */display: inline-block !important;position: relative;}#sk-container-id-1 div.sk-text-repr-fallback {display: none;}</style><div id=\"sk-container-id-1\" class=\"sk-top-container\"><div class=\"sk-text-repr-fallback\"><pre>RandomForestClassifier(min_samples_split=100, random_state=1)</pre><b>In a Jupyter environment, please rerun this cell to show the HTML representation or trust the notebook. <br />On GitHub, the HTML representation is unable to render, please try loading this page with nbviewer.org.</b></div><div class=\"sk-container\" hidden><div class=\"sk-item\"><div class=\"sk-estimator sk-toggleable\"><input class=\"sk-toggleable__control sk-hidden--visually\" id=\"sk-estimator-id-1\" type=\"checkbox\" checked><label for=\"sk-estimator-id-1\" class=\"sk-toggleable__label sk-toggleable__label-arrow\">RandomForestClassifier</label><div class=\"sk-toggleable__content\"><pre>RandomForestClassifier(min_samples_split=100, random_state=1)</pre></div></div></div></div></div>"
      ],
      "text/plain": [
       "RandomForestClassifier(min_samples_split=100, random_state=1)"
      ]
     },
     "execution_count": 20,
     "metadata": {},
     "output_type": "execute_result"
    }
   ],
   "source": [
    "model.fit(train[predictors],train[\"Target\"])"
   ]
  },
  {
   "cell_type": "markdown",
   "id": "80146060-7378-47b7-8495-28bb99efc55e",
   "metadata": {},
   "source": [
    "measure the model accuracy"
   ]
  },
  {
   "cell_type": "code",
   "execution_count": 22,
   "id": "286a672c-750d-4b88-910d-de015e2aa424",
   "metadata": {
    "tags": []
   },
   "outputs": [],
   "source": [
    "from sklearn.metrics import precision_score"
   ]
  },
  {
   "cell_type": "code",
   "execution_count": 37,
   "id": "c7eb4e14-d697-474f-80e3-2432b55c381a",
   "metadata": {
    "tags": []
   },
   "outputs": [],
   "source": [
    "preds=model.predict(test[predictors])"
   ]
  },
  {
   "cell_type": "code",
   "execution_count": 38,
   "id": "dfa0695e-65a6-4431-9996-2878c6d86d84",
   "metadata": {
    "tags": []
   },
   "outputs": [
    {
     "data": {
      "text/plain": [
       "array([0, 1, 0, 0, 0, 0, 0, 1, 0, 0, 0, 1, 1, 0, 0, 0, 0, 0, 0, 0, 0, 1,\n",
       "       0, 0, 1, 1, 0, 0, 0, 0, 0, 0, 0, 0, 0, 0, 0, 0, 0, 0, 0, 0, 0, 0,\n",
       "       0, 0, 0, 1, 0, 1, 0, 1, 0, 1, 0, 0, 0, 0, 0, 0, 0, 0, 1, 0, 0, 0,\n",
       "       0, 0, 0, 1, 1, 1, 1, 1, 1, 0, 1, 0, 0, 0, 0, 1, 0, 0, 0, 1, 1, 0,\n",
       "       1, 1, 1, 1, 0, 1, 0, 0, 0, 0, 0, 0])"
      ]
     },
     "execution_count": 38,
     "metadata": {},
     "output_type": "execute_result"
    }
   ],
   "source": [
    "preds"
   ]
  },
  {
   "cell_type": "code",
   "execution_count": 39,
   "id": "ddb2dae5-9c62-4b04-93d0-49f1ba0cf64e",
   "metadata": {
    "tags": []
   },
   "outputs": [],
   "source": [
    "preds=pd.Series(preds,index=test.index)"
   ]
  },
  {
   "cell_type": "code",
   "execution_count": 40,
   "id": "4f9e2f48-d91c-4190-ba2c-0fcf996e259e",
   "metadata": {
    "tags": []
   },
   "outputs": [
    {
     "data": {
      "text/plain": [
       "Date\n",
       "2023-01-04 00:00:00-05:00    0\n",
       "2023-01-05 00:00:00-05:00    1\n",
       "2023-01-06 00:00:00-05:00    0\n",
       "2023-01-09 00:00:00-05:00    0\n",
       "2023-01-10 00:00:00-05:00    0\n",
       "                            ..\n",
       "2023-05-22 00:00:00-04:00    0\n",
       "2023-05-23 00:00:00-04:00    0\n",
       "2023-05-24 00:00:00-04:00    0\n",
       "2023-05-25 00:00:00-04:00    0\n",
       "2023-05-26 00:00:00-04:00    0\n",
       "Length: 100, dtype: int32"
      ]
     },
     "execution_count": 40,
     "metadata": {},
     "output_type": "execute_result"
    }
   ],
   "source": [
    "preds"
   ]
  },
  {
   "cell_type": "code",
   "execution_count": 41,
   "id": "9d928483-4295-43d5-a2b9-ea401103a91e",
   "metadata": {
    "tags": []
   },
   "outputs": [
    {
     "data": {
      "text/plain": [
       "0.4444444444444444"
      ]
     },
     "execution_count": 41,
     "metadata": {},
     "output_type": "execute_result"
    }
   ],
   "source": [
    "precision_score(test[\"Target\"],preds)"
   ]
  },
  {
   "cell_type": "markdown",
   "id": "88f7ccdc-3d94-41f6-bb1d-a1f64a200ea1",
   "metadata": {},
   "source": [
    "👆 0.44 :  !_! bc iske against lagao better hoga...0.56 ka precision .........but lets fix that shit..."
   ]
  },
  {
   "cell_type": "code",
   "execution_count": 42,
   "id": "d7433cae-487d-4512-8c84-fda7c2de6713",
   "metadata": {
    "tags": []
   },
   "outputs": [],
   "source": [
    "# plot\n",
    "combined=pd.concat([test[\"Target\"],preds],axis=1)"
   ]
  },
  {
   "cell_type": "code",
   "execution_count": 43,
   "id": "83760b3b-d4fc-4b02-b542-517ee667a733",
   "metadata": {
    "tags": []
   },
   "outputs": [
    {
     "data": {
      "text/plain": [
       "<AxesSubplot:xlabel='Date'>"
      ]
     },
     "execution_count": 43,
     "metadata": {},
     "output_type": "execute_result"
    },
    {
     "data": {
      "image/png": "[encoded data removed]",
      "text/plain": [
       "<Figure size 640x480 with 1 Axes>"
      ]
     },
     "metadata": {},
     "output_type": "display_data"
    }
   ],
   "source": [
    "combined.plot()\n",
    "# horrible....."
   ]
  },
  {
   "cell_type": "markdown",
   "id": "19e29949-f50f-42ed-bbca-e4648fb43878",
   "metadata": {},
   "source": [
    "## Adding a Backtesting system"
   ]
  },
  {
   "cell_type": "code",
   "execution_count": 45,
   "id": "f834d649-59c7-4318-8a14-30c386e7a5a6",
   "metadata": {
    "tags": []
   },
   "outputs": [],
   "source": [
    "def predict(train,test,predictors,model):\n",
    "    model.fit(train[predictors],train[\"Target\"])\n",
    "    preds=model.predict(test[predictors])\n",
    "    preds=pd.Series(preds,index=test.index,name=\"Predictions\")\n",
    "    combined=pd.concat([test[\"Target\"],preds],axis=1)\n",
    "    return combined"
   ]
  },
  {
   "cell_type": "code",
   "execution_count": 46,
   "id": "7932d2d1-ff26-4880-9c76-1db919788a65",
   "metadata": {
    "tags": []
   },
   "outputs": [],
   "source": [
    "def backtest(data,model,predictors,start=2500,step=250):\n",
    "    all_predictions=[]\n",
    "    for i in range(start,data.shape[0],step):\n",
    "        train=data.iloc[0:i].copy()\n",
    "        test=data.iloc[i:(i+step)].copy()\n",
    "        predictions=predict(train,test,predictors,model)\n",
    "        all_predictions.append(predictions)\n",
    "    return pd.concat(all_predictions)"
   ]
  },
  {
   "cell_type": "code",
   "execution_count": 47,
   "id": "a5e7dc65-9c2e-4dc6-ba57-fb05ced85a20",
   "metadata": {
    "tags": []
   },
   "outputs": [],
   "source": [
    "predictions=backtest(sp500,model,predictors)"
   ]
  },
  {
   "cell_type": "code",
   "execution_count": 48,
   "id": "dce5d49a-5a01-4644-82b4-0ab314ea8482",
   "metadata": {
    "tags": []
   },
   "outputs": [
    {
     "data": {
      "text/plain": [
       "0    1532\n",
       "1    1356\n",
       "Name: Predictions, dtype: int64"
      ]
     },
     "execution_count": 48,
     "metadata": {},
     "output_type": "execute_result"
    }
   ],
   "source": [
    "predictions[\"Predictions\"].value_counts()"
   ]
  },
  {
   "cell_type": "code",
   "execution_count": 50,
   "id": "5a419ba5-01cc-4eb5-b1a7-5dc5fa6c0fc4",
   "metadata": {
    "tags": []
   },
   "outputs": [
    {
     "data": {
      "text/plain": [
       "0.5184365781710915"
      ]
     },
     "execution_count": 50,
     "metadata": {},
     "output_type": "execute_result"
    }
   ],
   "source": [
    "precision_score(predictions[\"Target\"],predictions[\"Predictions\"])"
   ]
  },
  {
   "cell_type": "markdown",
   "id": "e9be119e-33a3-4f99-b8ec-c04d635db97a",
   "metadata": {
    "tags": []
   },
   "source": [
    "barely good enough at 51 ....but okay... better than before "
   ]
  },
  {
   "cell_type": "code",
   "execution_count": 52,
   "id": "1c84f115-e8a2-4f07-af2e-5516120b390f",
   "metadata": {
    "tags": []
   },
   "outputs": [
    {
     "data": {
      "text/plain": [
       "1    0.539127\n",
       "0    0.460873\n",
       "Name: Target, dtype: float64"
      ]
     },
     "execution_count": 52,
     "metadata": {},
     "output_type": "execute_result"
    }
   ],
   "source": [
    "predictions[\"Target\"].value_counts()/predictions.shape[0]"
   ]
  },
  {
   "cell_type": "markdown",
   "id": "aec942fc-9974-48fe-89c6-f292e0540bf2",
   "metadata": {},
   "source": [
    "## Adding more predictiors to the model"
   ]
  },
  {
   "cell_type": "code",
   "execution_count": 55,
   "id": "40a4fc5a-f023-4934-9c0c-7ce6869794a6",
   "metadata": {
    "tags": []
   },
   "outputs": [],
   "source": [
    "# 2 days , 5 d, 2months, ....\n",
    "horizons=[2,5,60,250,1000]\n",
    "new_predictors=[]"
   ]
  },
  {
   "cell_type": "code",
   "execution_count": 56,
   "id": "872018fc-f574-4fa9-8bc7-05dc01f2fb90",
   "metadata": {
    "tags": []
   },
   "outputs": [],
   "source": [
    "for horizon in horizons:\n",
    "    rolling_averages = sp500.rolling(horizon).mean()\n",
    "    \n",
    "    ratio_column = f\"Close_Ratio_{horizon}\"\n",
    "    sp500[ratio_column] = sp500[\"Close\"] / rolling_averages[\"Close\"]\n",
    "    \n",
    "    trend_column = f\"Trend_{horizon}\"\n",
    "    sp500[trend_column] = sp500.shift(1).rolling(horizon).sum()[\"Target\"]\n",
    "    \n",
    "    new_predictors+= [ratio_column, trend_column]"
   ]
  },
  {
   "cell_type": "code",
   "execution_count": 57,
   "id": "bfbf4b0d-afd2-4c5a-997c-a8c8e6eecf40",
   "metadata": {
    "tags": []
   },
   "outputs": [],
   "source": [
    "sp500 = sp500.dropna(subset=sp500.columns[sp500.columns != \"Tomorrow\"])"
   ]
  },
  {
   "cell_type": "code",
   "execution_count": 58,
   "id": "c5c03431-65a0-48b3-9124-468ec947bacb",
   "metadata": {
    "tags": []
   },
   "outputs": [
    {
     "data": {
      "text/html": [
       "<div>\n",
       "<style scoped>\n",
       "    .dataframe tbody tr th:only-of-type {\n",
       "        vertical-align: middle;\n",
       "    }\n",
       "\n",
       "    .dataframe tbody tr th {\n",
       "        vertical-align: top;\n",
       "    }\n",
       "\n",
       "    .dataframe thead th {\n",
       "        text-align: right;\n",
       "    }\n",
       "</style>\n",
       "<table border=\"1\" class=\"dataframe\">\n",
       "  <thead>\n",
       "    <tr style=\"text-align: right;\">\n",
       "      <th></th>\n",
       "      <th>Open</th>\n",
       "      <th>High</th>\n",
       "      <th>Low</th>\n",
       "      <th>Close</th>\n",
       "      <th>Volume</th>\n",
       "      <th>Tommorow</th>\n",
       "      <th>Target</th>\n",
       "      <th>Close_Ratio_2</th>\n",
       "      <th>Trend_2</th>\n",
       "      <th>Close_Ratio_5</th>\n",
       "      <th>Trend_5</th>\n",
       "      <th>Close_Ratio_60</th>\n",
       "      <th>Trend_60</th>\n",
       "      <th>Close_Ratio_250</th>\n",
       "      <th>Trend_250</th>\n",
       "      <th>Close_Ratio_1000</th>\n",
       "      <th>Trend_1000</th>\n",
       "    </tr>\n",
       "    <tr>\n",
       "      <th>Date</th>\n",
       "      <th></th>\n",
       "      <th></th>\n",
       "      <th></th>\n",
       "      <th></th>\n",
       "      <th></th>\n",
       "      <th></th>\n",
       "      <th></th>\n",
       "      <th></th>\n",
       "      <th></th>\n",
       "      <th></th>\n",
       "      <th></th>\n",
       "      <th></th>\n",
       "      <th></th>\n",
       "      <th></th>\n",
       "      <th></th>\n",
       "      <th></th>\n",
       "      <th></th>\n",
       "    </tr>\n",
       "  </thead>\n",
       "  <tbody>\n",
       "    <tr>\n",
       "      <th>2005-12-20 00:00:00-05:00</th>\n",
       "      <td>1259.920044</td>\n",
       "      <td>1263.859985</td>\n",
       "      <td>1257.209961</td>\n",
       "      <td>1259.619995</td>\n",
       "      <td>1996690000</td>\n",
       "      <td>1262.790039</td>\n",
       "      <td>1</td>\n",
       "      <td>0.999881</td>\n",
       "      <td>0.0</td>\n",
       "      <td>0.994876</td>\n",
       "      <td>1.0</td>\n",
       "      <td>1.026982</td>\n",
       "      <td>34.0</td>\n",
       "      <td>1.044592</td>\n",
       "      <td>139.0</td>\n",
       "      <td>1.174052</td>\n",
       "      <td>525.0</td>\n",
       "    </tr>\n",
       "    <tr>\n",
       "      <th>2005-12-21 00:00:00-05:00</th>\n",
       "      <td>1259.619995</td>\n",
       "      <td>1269.369995</td>\n",
       "      <td>1259.619995</td>\n",
       "      <td>1262.790039</td>\n",
       "      <td>2065170000</td>\n",
       "      <td>1268.119995</td>\n",
       "      <td>1</td>\n",
       "      <td>1.001257</td>\n",
       "      <td>1.0</td>\n",
       "      <td>0.998950</td>\n",
       "      <td>1.0</td>\n",
       "      <td>1.028908</td>\n",
       "      <td>34.0</td>\n",
       "      <td>1.047020</td>\n",
       "      <td>140.0</td>\n",
       "      <td>1.176900</td>\n",
       "      <td>525.0</td>\n",
       "    </tr>\n",
       "    <tr>\n",
       "      <th>2005-12-22 00:00:00-05:00</th>\n",
       "      <td>1262.790039</td>\n",
       "      <td>1268.189941</td>\n",
       "      <td>1262.500000</td>\n",
       "      <td>1268.119995</td>\n",
       "      <td>1888500000</td>\n",
       "      <td>1268.660034</td>\n",
       "      <td>1</td>\n",
       "      <td>1.002106</td>\n",
       "      <td>2.0</td>\n",
       "      <td>1.003614</td>\n",
       "      <td>2.0</td>\n",
       "      <td>1.032532</td>\n",
       "      <td>34.0</td>\n",
       "      <td>1.051249</td>\n",
       "      <td>140.0</td>\n",
       "      <td>1.181762</td>\n",
       "      <td>525.0</td>\n",
       "    </tr>\n",
       "    <tr>\n",
       "      <th>2005-12-23 00:00:00-05:00</th>\n",
       "      <td>1268.119995</td>\n",
       "      <td>1269.760010</td>\n",
       "      <td>1265.920044</td>\n",
       "      <td>1268.660034</td>\n",
       "      <td>1285810000</td>\n",
       "      <td>1256.540039</td>\n",
       "      <td>0</td>\n",
       "      <td>1.000213</td>\n",
       "      <td>2.0</td>\n",
       "      <td>1.003828</td>\n",
       "      <td>3.0</td>\n",
       "      <td>1.032398</td>\n",
       "      <td>34.0</td>\n",
       "      <td>1.051504</td>\n",
       "      <td>141.0</td>\n",
       "      <td>1.182151</td>\n",
       "      <td>526.0</td>\n",
       "    </tr>\n",
       "    <tr>\n",
       "      <th>2005-12-27 00:00:00-05:00</th>\n",
       "      <td>1268.660034</td>\n",
       "      <td>1271.829956</td>\n",
       "      <td>1256.540039</td>\n",
       "      <td>1256.540039</td>\n",
       "      <td>1540470000</td>\n",
       "      <td>1258.170044</td>\n",
       "      <td>1</td>\n",
       "      <td>0.995200</td>\n",
       "      <td>1.0</td>\n",
       "      <td>0.994770</td>\n",
       "      <td>3.0</td>\n",
       "      <td>1.022150</td>\n",
       "      <td>33.0</td>\n",
       "      <td>1.041310</td>\n",
       "      <td>140.0</td>\n",
       "      <td>1.170753</td>\n",
       "      <td>526.0</td>\n",
       "    </tr>\n",
       "    <tr>\n",
       "      <th>...</th>\n",
       "      <td>...</td>\n",
       "      <td>...</td>\n",
       "      <td>...</td>\n",
       "      <td>...</td>\n",
       "      <td>...</td>\n",
       "      <td>...</td>\n",
       "      <td>...</td>\n",
       "      <td>...</td>\n",
       "      <td>...</td>\n",
       "      <td>...</td>\n",
       "      <td>...</td>\n",
       "      <td>...</td>\n",
       "      <td>...</td>\n",
       "      <td>...</td>\n",
       "      <td>...</td>\n",
       "      <td>...</td>\n",
       "      <td>...</td>\n",
       "    </tr>\n",
       "    <tr>\n",
       "      <th>2023-05-19 00:00:00-04:00</th>\n",
       "      <td>4204.149902</td>\n",
       "      <td>4212.910156</td>\n",
       "      <td>4180.200195</td>\n",
       "      <td>4191.979980</td>\n",
       "      <td>4041900000</td>\n",
       "      <td>4192.629883</td>\n",
       "      <td>1</td>\n",
       "      <td>0.999277</td>\n",
       "      <td>1.0</td>\n",
       "      <td>1.007931</td>\n",
       "      <td>3.0</td>\n",
       "      <td>1.032815</td>\n",
       "      <td>31.0</td>\n",
       "      <td>1.056586</td>\n",
       "      <td>115.0</td>\n",
       "      <td>1.117125</td>\n",
       "      <td>534.0</td>\n",
       "    </tr>\n",
       "    <tr>\n",
       "      <th>2023-05-22 00:00:00-04:00</th>\n",
       "      <td>4190.779785</td>\n",
       "      <td>4209.220215</td>\n",
       "      <td>4179.680176</td>\n",
       "      <td>4192.629883</td>\n",
       "      <td>3728520000</td>\n",
       "      <td>4145.580078</td>\n",
       "      <td>0</td>\n",
       "      <td>1.000078</td>\n",
       "      <td>1.0</td>\n",
       "      <td>1.005363</td>\n",
       "      <td>3.0</td>\n",
       "      <td>1.032032</td>\n",
       "      <td>32.0</td>\n",
       "      <td>1.056517</td>\n",
       "      <td>115.0</td>\n",
       "      <td>1.116867</td>\n",
       "      <td>535.0</td>\n",
       "    </tr>\n",
       "    <tr>\n",
       "      <th>2023-05-23 00:00:00-04:00</th>\n",
       "      <td>4176.799805</td>\n",
       "      <td>4185.680176</td>\n",
       "      <td>4142.540039</td>\n",
       "      <td>4145.580078</td>\n",
       "      <td>4155320000</td>\n",
       "      <td>4115.240234</td>\n",
       "      <td>0</td>\n",
       "      <td>0.994357</td>\n",
       "      <td>1.0</td>\n",
       "      <td>0.992382</td>\n",
       "      <td>3.0</td>\n",
       "      <td>1.019767</td>\n",
       "      <td>31.0</td>\n",
       "      <td>1.044446</td>\n",
       "      <td>115.0</td>\n",
       "      <td>1.103939</td>\n",
       "      <td>534.0</td>\n",
       "    </tr>\n",
       "    <tr>\n",
       "      <th>2023-05-24 00:00:00-04:00</th>\n",
       "      <td>4132.959961</td>\n",
       "      <td>4132.959961</td>\n",
       "      <td>4103.979980</td>\n",
       "      <td>4115.240234</td>\n",
       "      <td>0</td>\n",
       "      <td>4151.279785</td>\n",
       "      <td>1</td>\n",
       "      <td>0.996327</td>\n",
       "      <td>0.0</td>\n",
       "      <td>0.987177</td>\n",
       "      <td>2.0</td>\n",
       "      <td>1.011702</td>\n",
       "      <td>31.0</td>\n",
       "      <td>1.036659</td>\n",
       "      <td>114.0</td>\n",
       "      <td>1.095484</td>\n",
       "      <td>533.0</td>\n",
       "    </tr>\n",
       "    <tr>\n",
       "      <th>2023-05-25 00:00:00-04:00</th>\n",
       "      <td>4155.709961</td>\n",
       "      <td>4165.740234</td>\n",
       "      <td>4129.729980</td>\n",
       "      <td>4151.279785</td>\n",
       "      <td>4147760000</td>\n",
       "      <td>4205.450195</td>\n",
       "      <td>1</td>\n",
       "      <td>1.004360</td>\n",
       "      <td>1.0</td>\n",
       "      <td>0.998062</td>\n",
       "      <td>2.0</td>\n",
       "      <td>1.019727</td>\n",
       "      <td>32.0</td>\n",
       "      <td>1.045639</td>\n",
       "      <td>114.0</td>\n",
       "      <td>1.104693</td>\n",
       "      <td>533.0</td>\n",
       "    </tr>\n",
       "  </tbody>\n",
       "</table>\n",
       "<p>4387 rows × 17 columns</p>\n",
       "</div>"
      ],
      "text/plain": [
       "                                  Open         High          Low        Close  \\\n",
       "Date                                                                            \n",
       "2005-12-20 00:00:00-05:00  1259.920044  1263.859985  1257.209961  1259.619995   \n",
       "2005-12-21 00:00:00-05:00  1259.619995  1269.369995  1259.619995  1262.790039   \n",
       "2005-12-22 00:00:00-05:00  1262.790039  1268.189941  1262.500000  1268.119995   \n",
       "2005-12-23 00:00:00-05:00  1268.119995  1269.760010  1265.920044  1268.660034   \n",
       "2005-12-27 00:00:00-05:00  1268.660034  1271.829956  1256.540039  1256.540039   \n",
       "...                                ...          ...          ...          ...   \n",
       "2023-05-19 00:00:00-04:00  4204.149902  4212.910156  4180.200195  4191.979980   \n",
       "2023-05-22 00:00:00-04:00  4190.779785  4209.220215  4179.680176  4192.629883   \n",
       "2023-05-23 00:00:00-04:00  4176.799805  4185.680176  4142.540039  4145.580078   \n",
       "2023-05-24 00:00:00-04:00  4132.959961  4132.959961  4103.979980  4115.240234   \n",
       "2023-05-25 00:00:00-04:00  4155.709961  4165.740234  4129.729980  4151.279785   \n",
       "\n",
       "                               Volume     Tommorow  Target  Close_Ratio_2  \\\n",
       "Date                                                                        \n",
       "2005-12-20 00:00:00-05:00  1996690000  1262.790039       1       0.999881   \n",
       "2005-12-21 00:00:00-05:00  2065170000  1268.119995       1       1.001257   \n",
       "2005-12-22 00:00:00-05:00  1888500000  1268.660034       1       1.002106   \n",
       "2005-12-23 00:00:00-05:00  1285810000  1256.540039       0       1.000213   \n",
       "2005-12-27 00:00:00-05:00  1540470000  1258.170044       1       0.995200   \n",
       "...                               ...          ...     ...            ...   \n",
       "2023-05-19 00:00:00-04:00  4041900000  4192.629883       1       0.999277   \n",
       "2023-05-22 00:00:00-04:00  3728520000  4145.580078       0       1.000078   \n",
       "2023-05-23 00:00:00-04:00  4155320000  4115.240234       0       0.994357   \n",
       "2023-05-24 00:00:00-04:00           0  4151.279785       1       0.996327   \n",
       "2023-05-25 00:00:00-04:00  4147760000  4205.450195       1       1.004360   \n",
       "\n",
       "                           Trend_2  Close_Ratio_5  Trend_5  Close_Ratio_60  \\\n",
       "Date                                                                         \n",
       "2005-12-20 00:00:00-05:00      0.0       0.994876      1.0        1.026982   \n",
       "2005-12-21 00:00:00-05:00      1.0       0.998950      1.0        1.028908   \n",
       "2005-12-22 00:00:00-05:00      2.0       1.003614      2.0        1.032532   \n",
       "2005-12-23 00:00:00-05:00      2.0       1.003828      3.0        1.032398   \n",
       "2005-12-27 00:00:00-05:00      1.0       0.994770      3.0        1.022150   \n",
       "...                            ...            ...      ...             ...   \n",
       "2023-05-19 00:00:00-04:00      1.0       1.007931      3.0        1.032815   \n",
       "2023-05-22 00:00:00-04:00      1.0       1.005363      3.0        1.032032   \n",
       "2023-05-23 00:00:00-04:00      1.0       0.992382      3.0        1.019767   \n",
       "2023-05-24 00:00:00-04:00      0.0       0.987177      2.0        1.011702   \n",
       "2023-05-25 00:00:00-04:00      1.0       0.998062      2.0        1.019727   \n",
       "\n",
       "                           Trend_60  Close_Ratio_250  Trend_250  \\\n",
       "Date                                                              \n",
       "2005-12-20 00:00:00-05:00      34.0         1.044592      139.0   \n",
       "2005-12-21 00:00:00-05:00      34.0         1.047020      140.0   \n",
       "2005-12-22 00:00:00-05:00      34.0         1.051249      140.0   \n",
       "2005-12-23 00:00:00-05:00      34.0         1.051504      141.0   \n",
       "2005-12-27 00:00:00-05:00      33.0         1.041310      140.0   \n",
       "...                             ...              ...        ...   \n",
       "2023-05-19 00:00:00-04:00      31.0         1.056586      115.0   \n",
       "2023-05-22 00:00:00-04:00      32.0         1.056517      115.0   \n",
       "2023-05-23 00:00:00-04:00      31.0         1.044446      115.0   \n",
       "2023-05-24 00:00:00-04:00      31.0         1.036659      114.0   \n",
       "2023-05-25 00:00:00-04:00      32.0         1.045639      114.0   \n",
       "\n",
       "                           Close_Ratio_1000  Trend_1000  \n",
       "Date                                                     \n",
       "2005-12-20 00:00:00-05:00          1.174052       525.0  \n",
       "2005-12-21 00:00:00-05:00          1.176900       525.0  \n",
       "2005-12-22 00:00:00-05:00          1.181762       525.0  \n",
       "2005-12-23 00:00:00-05:00          1.182151       526.0  \n",
       "2005-12-27 00:00:00-05:00          1.170753       526.0  \n",
       "...                                     ...         ...  \n",
       "2023-05-19 00:00:00-04:00          1.117125       534.0  \n",
       "2023-05-22 00:00:00-04:00          1.116867       535.0  \n",
       "2023-05-23 00:00:00-04:00          1.103939       534.0  \n",
       "2023-05-24 00:00:00-04:00          1.095484       533.0  \n",
       "2023-05-25 00:00:00-04:00          1.104693       533.0  \n",
       "\n",
       "[4387 rows x 17 columns]"
      ]
     },
     "execution_count": 58,
     "metadata": {},
     "output_type": "execute_result"
    }
   ],
   "source": [
    "sp500"
   ]
  },
  {
   "cell_type": "markdown",
   "id": "493a428f-f417-40fd-803d-671286015813",
   "metadata": {},
   "source": [
    "## Improving the model"
   ]
  },
  {
   "cell_type": "code",
   "execution_count": 59,
   "id": "17de48ac-b20d-4a08-b958-3bc3c20a007d",
   "metadata": {
    "tags": []
   },
   "outputs": [],
   "source": [
    "model = RandomForestClassifier(n_estimators=200, min_samples_split=50, random_state=1)"
   ]
  },
  {
   "cell_type": "code",
   "execution_count": 60,
   "id": "edd74e33-3159-444c-a175-20a771800676",
   "metadata": {
    "tags": []
   },
   "outputs": [],
   "source": [
    "def predict(train, test, predictors, model):\n",
    "    model.fit(train[predictors], train[\"Target\"])\n",
    "    preds = model.predict_proba(test[predictors])[:,1]\n",
    "    preds[preds >=.6] = 1\n",
    "    preds[preds <.6] = 0\n",
    "    preds = pd.Series(preds, index=test.index, name=\"Predictions\")\n",
    "    combined = pd.concat([test[\"Target\"], preds], axis=1)\n",
    "    return combined"
   ]
  },
  {
   "cell_type": "code",
   "execution_count": 61,
   "id": "834c340c-8724-4e16-b2bf-c770ce7a02d3",
   "metadata": {
    "tags": []
   },
   "outputs": [],
   "source": [
    "predictions = backtest(sp500, model, new_predictors)"
   ]
  },
  {
   "cell_type": "code",
   "execution_count": 62,
   "id": "a91aa09f-5710-4fe7-a58e-bf79484cdeaa",
   "metadata": {
    "tags": []
   },
   "outputs": [
    {
     "data": {
      "text/plain": [
       "0.0    1553\n",
       "1.0     334\n",
       "Name: Predictions, dtype: int64"
      ]
     },
     "execution_count": 62,
     "metadata": {},
     "output_type": "execute_result"
    }
   ],
   "source": [
    "predictions[\"Predictions\"].value_counts()"
   ]
  },
  {
   "cell_type": "code",
   "execution_count": 63,
   "id": "b1691e80-953a-4124-a0aa-950f0a7ace21",
   "metadata": {
    "tags": []
   },
   "outputs": [
    {
     "data": {
      "text/plain": [
       "0.5718562874251497"
      ]
     },
     "execution_count": 63,
     "metadata": {},
     "output_type": "execute_result"
    }
   ],
   "source": [
    "precision_score(predictions[\"Target\"], predictions[\"Predictions\"])"
   ]
  },
  {
   "cell_type": "markdown",
   "id": "3888f85a-744f-48f5-b306-16957792a153",
   "metadata": {},
   "source": [
    "Its better than before ....57"
   ]
  },
  {
   "cell_type": "code",
   "execution_count": 64,
   "id": "abefe9b7-c9db-4a25-b56e-a00f1f5e59f2",
   "metadata": {
    "tags": []
   },
   "outputs": [
    {
     "data": {
      "text/plain": [
       "1    0.537891\n",
       "0    0.462109\n",
       "Name: Target, dtype: float64"
      ]
     },
     "execution_count": 64,
     "metadata": {},
     "output_type": "execute_result"
    }
   ],
   "source": [
    "predictions[\"Target\"].value_counts() / predictions.shape[0]"
   ]
  },
  {
   "cell_type": "code",
   "execution_count": 65,
   "id": "86297162-920c-4416-9fc3-d3856e5f6463",
   "metadata": {
    "tags": []
   },
   "outputs": [
    {
     "data": {
      "text/html": [
       "<div>\n",
       "<style scoped>\n",
       "    .dataframe tbody tr th:only-of-type {\n",
       "        vertical-align: middle;\n",
       "    }\n",
       "\n",
       "    .dataframe tbody tr th {\n",
       "        vertical-align: top;\n",
       "    }\n",
       "\n",
       "    .dataframe thead th {\n",
       "        text-align: right;\n",
       "    }\n",
       "</style>\n",
       "<table border=\"1\" class=\"dataframe\">\n",
       "  <thead>\n",
       "    <tr style=\"text-align: right;\">\n",
       "      <th></th>\n",
       "      <th>Target</th>\n",
       "      <th>Predictions</th>\n",
       "    </tr>\n",
       "    <tr>\n",
       "      <th>Date</th>\n",
       "      <th></th>\n",
       "      <th></th>\n",
       "    </tr>\n",
       "  </thead>\n",
       "  <tbody>\n",
       "    <tr>\n",
       "      <th>2015-11-25 00:00:00-05:00</th>\n",
       "      <td>1</td>\n",
       "      <td>0.0</td>\n",
       "    </tr>\n",
       "    <tr>\n",
       "      <th>2015-11-27 00:00:00-05:00</th>\n",
       "      <td>0</td>\n",
       "      <td>0.0</td>\n",
       "    </tr>\n",
       "    <tr>\n",
       "      <th>2015-11-30 00:00:00-05:00</th>\n",
       "      <td>1</td>\n",
       "      <td>0.0</td>\n",
       "    </tr>\n",
       "    <tr>\n",
       "      <th>2015-12-01 00:00:00-05:00</th>\n",
       "      <td>0</td>\n",
       "      <td>0.0</td>\n",
       "    </tr>\n",
       "    <tr>\n",
       "      <th>2015-12-02 00:00:00-05:00</th>\n",
       "      <td>0</td>\n",
       "      <td>0.0</td>\n",
       "    </tr>\n",
       "    <tr>\n",
       "      <th>...</th>\n",
       "      <td>...</td>\n",
       "      <td>...</td>\n",
       "    </tr>\n",
       "    <tr>\n",
       "      <th>2023-05-19 00:00:00-04:00</th>\n",
       "      <td>1</td>\n",
       "      <td>0.0</td>\n",
       "    </tr>\n",
       "    <tr>\n",
       "      <th>2023-05-22 00:00:00-04:00</th>\n",
       "      <td>0</td>\n",
       "      <td>0.0</td>\n",
       "    </tr>\n",
       "    <tr>\n",
       "      <th>2023-05-23 00:00:00-04:00</th>\n",
       "      <td>0</td>\n",
       "      <td>0.0</td>\n",
       "    </tr>\n",
       "    <tr>\n",
       "      <th>2023-05-24 00:00:00-04:00</th>\n",
       "      <td>1</td>\n",
       "      <td>1.0</td>\n",
       "    </tr>\n",
       "    <tr>\n",
       "      <th>2023-05-25 00:00:00-04:00</th>\n",
       "      <td>1</td>\n",
       "      <td>0.0</td>\n",
       "    </tr>\n",
       "  </tbody>\n",
       "</table>\n",
       "<p>1887 rows × 2 columns</p>\n",
       "</div>"
      ],
      "text/plain": [
       "                           Target  Predictions\n",
       "Date                                          \n",
       "2015-11-25 00:00:00-05:00       1          0.0\n",
       "2015-11-27 00:00:00-05:00       0          0.0\n",
       "2015-11-30 00:00:00-05:00       1          0.0\n",
       "2015-12-01 00:00:00-05:00       0          0.0\n",
       "2015-12-02 00:00:00-05:00       0          0.0\n",
       "...                           ...          ...\n",
       "2023-05-19 00:00:00-04:00       1          0.0\n",
       "2023-05-22 00:00:00-04:00       0          0.0\n",
       "2023-05-23 00:00:00-04:00       0          0.0\n",
       "2023-05-24 00:00:00-04:00       1          1.0\n",
       "2023-05-25 00:00:00-04:00       1          0.0\n",
       "\n",
       "[1887 rows x 2 columns]"
      ]
     },
     "execution_count": 65,
     "metadata": {},
     "output_type": "execute_result"
    }
   ],
   "source": [
    "predictions"
   ]
  },
  {
   "cell_type": "markdown",
   "id": "1b3687a6-6824-43f5-b9f6-d20427dbbb55",
   "metadata": {},
   "source": [
    "## more todo\n",
    "add more than data of market indeces that opens before the us market opens  \n",
    "add news - macro eco factors  \n",
    "add sectors  \n",
    "get hourly data (not easy to get)"
   ]
  }
 ],
 "metadata": {
  "kernelspec": {
   "display_name": "Python 3 (ipykernel)",
   "language": "python",
   "name": "python3"
  },
  "language_info": {
   "codemirror_mode": {
    "name": "ipython",
    "version": 3
   },
   "file_extension": ".py",
   "mimetype": "text/x-python",
   "name": "python",
   "nbconvert_exporter": "python",
   "pygments_lexer": "ipython3",
   "version": "3.10.10"
  }
 },
 "nbformat": 4,
 "nbformat_minor": 5
}
